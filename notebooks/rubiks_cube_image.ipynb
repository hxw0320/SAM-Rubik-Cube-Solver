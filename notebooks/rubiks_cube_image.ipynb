{
 "cells": [
  {
   "cell_type": "code",
   "execution_count": 1,
   "id": "22d950c2-9ec5-4374-92e7-2b89676445c9",
   "metadata": {},
   "outputs": [],
   "source": [
    "import os\n",
    "# if using Apple MPS, fall back to CPU for unsupported ops\n",
    "os.environ[\"PYTORCH_ENABLE_MPS_FALLBACK\"] = \"1\"\n",
    "import numpy as np\n",
    "import torch\n",
    "import matplotlib.pyplot as plt\n",
    "import cv2\n",
    "from PIL import Image"
   ]
  },
  {
   "cell_type": "code",
   "execution_count": 2,
   "id": "08888793-80a8-49ee-813b-34088615bde4",
   "metadata": {},
   "outputs": [
    {
     "name": "stdout",
     "output_type": "stream",
     "text": [
      "using device: cuda\n"
     ]
    }
   ],
   "source": [
    "# select the device for computation\n",
    "if torch.cuda.is_available():\n",
    "    device = torch.device(\"cuda\")\n",
    "elif torch.backends.mps.is_available():\n",
    "    device = torch.device(\"mps\")\n",
    "else:\n",
    "    device = torch.device(\"cpu\")\n",
    "print(f\"using device: {device}\")\n",
    "\n",
    "if device.type == \"cuda\":\n",
    "    # use bfloat16 for the entire notebook\n",
    "    torch.autocast(\"cuda\", dtype=torch.bfloat16).__enter__()\n",
    "    # turn on tfloat32 for Ampere GPUs (https://pytorch.org/docs/stable/notes/cuda.html#tensorfloat-32-tf32-on-ampere-devices)\n",
    "    if torch.cuda.get_device_properties(0).major >= 8:\n",
    "        torch.backends.cuda.matmul.allow_tf32 = True\n",
    "        torch.backends.cudnn.allow_tf32 = True\n",
    "elif device.type == \"mps\":\n",
    "    print(\n",
    "        \"\\nSupport for MPS devices is preliminary. SAM 2 is trained with CUDA and might \"\n",
    "        \"give numerically different outputs and sometimes degraded performance on MPS. \"\n",
    "        \"See e.g. https://github.com/pytorch/pytorch/issues/84936 for a discussion.\"\n",
    "    )"
   ]
  },
  {
   "cell_type": "code",
   "execution_count": 3,
   "id": "3d8e64ce-3c9c-4ebf-a244-1c9613fd3997",
   "metadata": {},
   "outputs": [],
   "source": [
    "def load_images_from_folder(folder):\n",
    "    \"\"\"Load all images from the specified folder\"\"\"\n",
    "    images = []\n",
    "    for filename in sorted(os.listdir(folder)):  # Ensure images are read in order\n",
    "        if filename.endswith((\".jpg\", \".png\", \".jpeg\")):  # Only read image files\n",
    "            image = Image.open(os.path.join(folder, filename))  # Open the image file\n",
    "            image = np.array(image.convert(\"RGB\"))  # Convert to RGB format and turn into an array\n",
    "            if image is not None:\n",
    "                images.append(image)  # Add image to the list\n",
    "    return images\n"
   ]
  },
  {
   "cell_type": "code",
   "execution_count": 4,
   "id": "1712f5ba-9ff7-4d25-85a5-a550473e05a1",
   "metadata": {},
   "outputs": [
    {
     "data": {
      "text/plain": [
       "6"
      ]
     },
     "execution_count": 4,
     "metadata": {},
     "output_type": "execute_result"
    }
   ],
   "source": [
    "images = load_images_from_folder(\"rubiks_cube\")\n",
    "len(images)"
   ]
  },
  {
   "cell_type": "code",
   "execution_count": 5,
   "id": "6fc0d974-ebd5-457f-abd1-a58e72bfce97",
   "metadata": {},
   "outputs": [],
   "source": [
    "from sam2.build_sam import build_sam2\n",
    "from sam2.automatic_mask_generator import SAM2AutomaticMaskGenerator\n",
    "\n",
    "sam2_checkpoint = \"../checkpoints/sam2_hiera_large.pt\"\n",
    "model_cfg = \"sam2_hiera_l.yaml\"\n",
    "\n",
    "sam2 = build_sam2(model_cfg, sam2_checkpoint, device=device, apply_postprocessing=False)\n",
    "\n",
    "# mask_generator = SAM2AutomaticMaskGenerator(sam2)\n",
    "\n",
    "mask_generator = SAM2AutomaticMaskGenerator(\n",
    "    model=sam2,\n",
    "    points_per_side=32,\n",
    "    points_per_batch=64,\n",
    "    pred_iou_thresh=0.7,\n",
    "    stability_score_thresh=0.92 ,\n",
    "    stability_score_offset=0.7,\n",
    "    crop_n_layers=1,\n",
    "    box_nms_thresh=0.6,\n",
    "    crop_n_points_downscale_factor=3,\n",
    "    min_mask_region_area=25.0,\n",
    "    use_m2m=False,\n",
    ")"
   ]
  },
  {
   "cell_type": "code",
   "execution_count": 6,
   "id": "cee260c6-f47d-43d3-8dd6-b9e3191cfe0f",
   "metadata": {},
   "outputs": [],
   "source": [
    "def select_masks(masks):\n",
    "    # Set some filtering parameters\n",
    "    min_area = 20000  # Minimum area of a Rubik's cube color block; may need adjustment\n",
    "    max_area = 60000  # Maximum area of a Rubik's cube color block; may need adjustment\n",
    "    aspect_ratio_threshold = 0.2  # Aspect ratio difference threshold (e.g., 0.2 means aspect ratio should be between 0.8 and 1.2)\n",
    "    \n",
    "    selected_masks = []\n",
    "    \n",
    "    # Iterate through all masks and select those matching Rubik's cube color block characteristics\n",
    "    for mask in masks:\n",
    "        area = mask['area']\n",
    "        bbox = mask['bbox']\n",
    "        width, height = bbox[2], bbox[3]\n",
    "        aspect_ratio = width / height\n",
    "    \n",
    "        # Select masks with area in the reasonable range and close to a 1:1 aspect ratio\n",
    "        if min_area < area < max_area and (1 - aspect_ratio_threshold) < aspect_ratio < (1 + aspect_ratio_threshold):\n",
    "            selected_masks.append(mask)\n",
    "    \n",
    "    # print(f\"Number of masks initially selected as matching Rubik's cube color blocks: {len(selected_masks)}\")\n",
    "    return selected_masks\n"
   ]
  },
  {
   "cell_type": "code",
   "execution_count": 7,
   "id": "ac8098c2-8826-4329-9a17-f6151ae097ca",
   "metadata": {},
   "outputs": [],
   "source": [
    "def calculate_intersection_area(mask1, mask2):\n",
    "    \"\"\"Calculate the intersection area between two masks\"\"\"\n",
    "    intersection = cv2.bitwise_and(mask1['segmentation'].astype(np.uint8), mask2['segmentation'].astype(np.uint8))\n",
    "    return np.sum(intersection > 0)\n"
   ]
  },
  {
   "cell_type": "code",
   "execution_count": 8,
   "id": "2ed36e9e-0f9c-4376-812b-22dea04a8c0d",
   "metadata": {},
   "outputs": [],
   "source": [
    "def filter_masks(selected_masks, image):\n",
    "    final_selected_masks = []\n",
    "    # Iterate over the selected masks and use area comparison for filtering\n",
    "    for i, mask1 in enumerate(selected_masks):\n",
    "        is_nested = False  # Flag to track if this mask is nested within a larger mask\n",
    "        for j, mask2 in enumerate(selected_masks):\n",
    "            if i == j:\n",
    "                continue  # Skip comparison with the same mask\n",
    "            \n",
    "            # Check if mask1 is nested within mask2\n",
    "            if mask1['area'] < mask2['area']:  # Only consider smaller masks\n",
    "                intersection_area = calculate_intersection_area(mask1, mask2)\n",
    "                \n",
    "                # If the intersection area is large enough and close to mask1's area, mark it as nested\n",
    "                if intersection_area > 0.9 * mask1['area']:\n",
    "                    is_nested = True  # Mark as nested\n",
    "                    break\n",
    "        \n",
    "        # Retain only those smaller masks that are not nested\n",
    "        if not is_nested:\n",
    "            final_selected_masks.append(mask1)\n",
    "    # print(f\"Number of masks after filtering that match Rubik's cube color blocks: {len(final_selected_masks)}\")\n",
    "    return final_selected_masks\n"
   ]
  },
  {
   "cell_type": "code",
   "execution_count": 9,
   "id": "71473dab-7aa9-44d0-8f4a-560539deecf6",
   "metadata": {},
   "outputs": [],
   "source": [
    "def sort_masks_by_position(masks):\n",
    "    \"\"\"Sort masks from left to right, top to bottom\"\"\"\n",
    "    if not masks:\n",
    "        return []  # Return an empty list if no masks are provided\n",
    "\n",
    "    # First, sort by y-coordinate (vertical position), then by x-coordinate (horizontal position) within each row\n",
    "    masks = sorted(masks, key=lambda mask: mask['bbox'][1])  # Sort by y-coordinate (vertical)\n",
    "\n",
    "    sorted_rows = []\n",
    "    current_row = []\n",
    "    last_y = masks[0]['bbox'][1]  # Initial y-coordinate\n",
    "    row_height = masks[0]['bbox'][3]  # Height of the first row, used to determine row change\n",
    "\n",
    "    for mask in masks:\n",
    "        current_y = mask['bbox'][1]\n",
    "        current_height = mask['bbox'][3]\n",
    "        \n",
    "        # Dynamically determine if a new row has started based on mask height\n",
    "        if abs(current_y - last_y) > row_height / 2 and current_row:\n",
    "            # For a new row, sort the current row by x-coordinate (horizontal) first\n",
    "            current_row = sorted(current_row, key=lambda m: m['bbox'][0])\n",
    "            sorted_rows.extend(current_row)\n",
    "            current_row = []\n",
    "            row_height = current_height  # Update height for the new row\n",
    "\n",
    "        current_row.append(mask)\n",
    "        last_y = current_y\n",
    "\n",
    "    # Sort the last row\n",
    "    if current_row:\n",
    "        current_row = sorted(current_row, key=lambda m: m['bbox'][0])\n",
    "        sorted_rows.extend(current_row)\n",
    "\n",
    "    return sorted_rows\n"
   ]
  },
  {
   "cell_type": "code",
   "execution_count": 10,
   "id": "2ddf7ff6-8058-4ae3-8bae-d9c2365de377",
   "metadata": {},
   "outputs": [],
   "source": [
    "def get_dominant_color_rgb(image, mask, index):\n",
    "    \"\"\"Obtain the dominant color of the entire mask area in RGB color space and display pre- and post-processing results\"\"\"\n",
    "    mask_uint8 = mask['segmentation'].astype(np.uint8)\n",
    "\n",
    "    # Apply mask to the image\n",
    "    masked_image_rgb = cv2.bitwise_and(image, image, mask=mask_uint8)\n",
    "\n",
    "    # Extract RGB channels within the masked area\n",
    "    r_channel = masked_image_rgb[:, :, 0][mask_uint8 > 0]\n",
    "    g_channel = masked_image_rgb[:, :, 1][mask_uint8 > 0]\n",
    "    b_channel = masked_image_rgb[:, :, 2][mask_uint8 > 0]\n",
    "\n",
    "    # Calculate the mean of each channel\n",
    "    r_mean = np.mean(r_channel)\n",
    "    g_mean = np.mean(g_channel)\n",
    "    b_mean = np.mean(b_channel)\n",
    "\n",
    "    return (r_mean, g_mean, b_mean)\n",
    "\n",
    "def get_color_letter_from_rgb(rgb):\n",
    "    \"\"\"Map RGB values to corresponding color initials\"\"\"\n",
    "    r, g, b = rgb\n",
    "\n",
    "    # Define specific ranges to determine color\n",
    "    if 90 <= r <= 170 and 0 <= g <= 60 and 0 <= b <= 60:\n",
    "        return \"r\"  # Red\n",
    "    elif 0 <= r <= 100 and 70 <= g <= 255 and 0 <= b <= 100:\n",
    "        return \"g\"  # Green\n",
    "    elif 0 <= r <= 100 and 0 <= g <= 100 and 90 <= b <= 255:\n",
    "        return \"b\"  # Blue\n",
    "    elif 120 <= r <= 255 and 120 <= g <= 255 and 0 <= b <= 80:\n",
    "        return \"y\"  # Yellow\n",
    "    elif 120 <= r <= 255 and 125 <= g <= 255 and 140 <= b <= 255:\n",
    "        return \"w\"  # White\n",
    "    elif 100 <= r <= 255 and 50 <= g <= 200 and 20 <= b <= 100:\n",
    "        return \"o\"  # Orange\n",
    "    else:\n",
    "        return \"?\"  # Unknow\n",
    "\n",
    "def read_cube_face_rgb(image, masks):\n",
    "    \"\"\"Read the color configuration of one face of a Rubik's cube using RGB color space and return the initials of each color\"\"\"\n",
    "    # Assume that 9 color block masks of the cube face have been retained after filtering\n",
    "    sorted_masks = sort_masks_by_position(masks)  # Assume this function is available for sorting\n",
    "\n",
    "    face_config = \"\"\n",
    "\n",
    "    # Iterate over the sorted masks and read the color of each block\n",
    "    for i, mask in enumerate(sorted_masks[:9]):  # Only process the first 9 masks\n",
    "        dominant_rgb = get_dominant_color_rgb(image, mask, i)\n",
    "        color_letter = get_color_letter_from_rgb(dominant_rgb)\n",
    "        face_config += color_letter\n",
    "\n",
    "    return face_config"
   ]
  },
  {
   "cell_type": "code",
   "execution_count": 11,
   "id": "c2534ebd-fd29-49fa-8a29-a410024688fd",
   "metadata": {},
   "outputs": [],
   "source": [
    "def process_image(image):\n",
    "    \"\"\"Process a single image and return the color block configuration\"\"\"\n",
    "    # Here, call your color and mask filtering logic\n",
    "    masks = mask_generator.generate(image)\n",
    "    # selected_masks = segment_image(image)  # Call your function for segmentation\n",
    "    selected_masks = select_masks(masks)\n",
    "    final_selected_masks = filter_masks(selected_masks, image)  # Filter valid masks\n",
    "    sorted_masks = sort_masks_by_position(final_selected_masks)  # Sort masks by position\n",
    "\n",
    "    # face_config = \"\"\n",
    "    face_config = read_cube_face_rgb(image, final_selected_masks)\n",
    "    return face_config\n"
   ]
  },
  {
   "cell_type": "code",
   "execution_count": 12,
   "id": "ec9a8e97-9133-4b8a-9b84-49fee28fb298",
   "metadata": {},
   "outputs": [],
   "source": [
    "def generate_cube_configuration(images):\n",
    "    \"\"\"Generate the configuration for the six faces of a Rubik's cube\"\"\"\n",
    "    cube_config = []\n",
    "    for i, image in enumerate(images):\n",
    "        face_config = process_image(image)\n",
    "        print(f\"Configuration for Face {i+1}: {face_config}\")\n",
    "        cube_config.append(face_config)\n",
    "    return cube_config\n"
   ]
  },
  {
   "cell_type": "code",
   "execution_count": 13,
   "id": "6a5cc963-0181-47b9-9f97-1d08374ea4bb",
   "metadata": {},
   "outputs": [
    {
     "name": "stdout",
     "output_type": "stream",
     "text": [
      "Configuration for Face 1: rrryyoggo\n",
      "Configuration for Face 2: wwwggwyyg\n",
      "Configuration for Face 3: rogrryybb\n",
      "Configuration for Face 4: bwrbwowyo\n",
      "Configuration for Face 5: wbybbwboo\n",
      "Configuration for Face 6: ggbgoryro\n",
      "The configuration for the six faces of the Rubik's cube:\n",
      "Face 1: rrryyoggo\n",
      "Face 2: wwwggwyyg\n",
      "Face 3: rogrryybb\n",
      "Face 4: bwrbwowyo\n",
      "Face 5: wbybbwboo\n",
      "Face 6: ggbgoryro\n"
     ]
    }
   ],
   "source": [
    "folder = \"rubiks_cube\"  # Specify the folder path\n",
    "images = load_images_from_folder(folder)\n",
    "\n",
    "if len(images) == 6:\n",
    "    cube_configuration = generate_cube_configuration(images)\n",
    "    print(\"The configuration for the six faces of the Rubik's cube:\")\n",
    "    for i, config in enumerate(cube_configuration):\n",
    "        print(f\"Face {i+1}: {config}\")\n",
    "else:\n",
    "    print(f\"Error: Found {len(images)} images, but 6 are required.\")\n"
   ]
  },
  {
   "cell_type": "code",
   "execution_count": 14,
   "id": "eb6bda47-9e81-46c1-a7a5-d9794220c68b",
   "metadata": {},
   "outputs": [
    {
     "data": {
      "text/plain": [
       "['rrryyoggo', 'wwwggwyyg', 'rogrryybb', 'bwrbwowyo', 'wbybbwboo', 'ggbgoryro']"
      ]
     },
     "execution_count": 14,
     "metadata": {},
     "output_type": "execute_result"
    }
   ],
   "source": [
    "cube_configuration"
   ]
  },
  {
   "cell_type": "code",
   "execution_count": 15,
   "id": "a82e5655-4354-41f3-b442-1ce32b2c4e2f",
   "metadata": {},
   "outputs": [
    {
     "name": "stdout",
     "output_type": "stream",
     "text": [
      "Concatenated string after sorting: rrryyoggowwwggwyygrogrryybbbwrbwowyowbybbwbooggbgoryro\n"
     ]
    }
   ],
   "source": [
    "color_order = ['y', 'g', 'r', 'w', 'b', 'o']  # Define the order of colors\n",
    "\n",
    "# Extract the center color block (5th character) of each face and pair it with the full face configuration\n",
    "config_with_centers = [(face[4], face) for face in cube_configuration]\n",
    "\n",
    "# Sort faces based on the order of center colors\n",
    "sorted_config = sorted(config_with_centers, key=lambda x: color_order.index(x[0]))\n",
    "\n",
    "# Extract the sorted face configurations\n",
    "sorted_faces = [face for _, face in sorted_config]\n",
    "\n",
    "# Concatenate the sorted faces into a final string\n",
    "config_str = ''.join(sorted_faces)\n",
    "\n",
    "# Output the final result\n",
    "print(f\"Concatenated string after sorting: {config_str}\")\n"
   ]
  },
  {
   "cell_type": "code",
   "execution_count": 16,
   "id": "8a42deea-5964-46a8-96c7-59238c4b8f95",
   "metadata": {},
   "outputs": [],
   "source": [
    "center_color_map = {\n",
    "        'w': 'D',  \n",
    "        'r': 'F',  \n",
    "        'g': 'R',  \n",
    "        'y': 'U',  \n",
    "        'o': 'B',  \n",
    "        'b': 'L'   \n",
    "    }"
   ]
  },
  {
   "cell_type": "code",
   "execution_count": 17,
   "id": "78831eba-7779-4d27-a510-54a2e868a325",
   "metadata": {},
   "outputs": [
    {
     "name": "stdout",
     "output_type": "stream",
     "text": [
      "Converted Rubik's cube state: FFFUUBRRBDDDRRDUURFBRFFUULLLDFLDBDUBDLULLDLBBRRLRBFUFB\n"
     ]
    }
   ],
   "source": [
    "new_config_str = \"\"\n",
    "for c in config_str:\n",
    "    if c in center_color_map:\n",
    "        new_config_str += center_color_map[c]\n",
    "print(f\"Converted Rubik's cube state: {new_config_str}\")\n"
   ]
  },
  {
   "cell_type": "code",
   "execution_count": 18,
   "id": "029b22c8-f020-478b-bac5-63dee4cc4156",
   "metadata": {},
   "outputs": [
    {
     "data": {
      "text/plain": [
       "\"B' R D F B' R2 D2 B2 U2 D2 L2 U2 F2 R2\""
      ]
     },
     "execution_count": 18,
     "metadata": {},
     "output_type": "execute_result"
    }
   ],
   "source": [
    "import kociemba\n",
    "\n",
    "kociemba.solve(new_config_str)"
   ]
  },
  {
   "cell_type": "code",
   "execution_count": null,
   "id": "66d2aea4-3c3f-40d4-a055-9a7b2168649b",
   "metadata": {},
   "outputs": [],
   "source": []
  },
  {
   "cell_type": "code",
   "execution_count": null,
   "id": "b57f83e9-f2b8-4383-899a-c11efdac0c7c",
   "metadata": {},
   "outputs": [],
   "source": []
  }
 ],
 "metadata": {
  "kernelspec": {
   "display_name": "Python 3 (ipykernel)",
   "language": "python",
   "name": "python3"
  },
  "language_info": {
   "codemirror_mode": {
    "name": "ipython",
    "version": 3
   },
   "file_extension": ".py",
   "mimetype": "text/x-python",
   "name": "python",
   "nbconvert_exporter": "python",
   "pygments_lexer": "ipython3",
   "version": "3.10.14"
  }
 },
 "nbformat": 4,
 "nbformat_minor": 5
}
